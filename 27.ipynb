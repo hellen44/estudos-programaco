{
  "nbformat": 4,
  "nbformat_minor": 0,
  "metadata": {
    "colab": {
      "provenance": [],
      "authorship_tag": "ABX9TyPRmRmxO7w/bBpXbWgIxjIe",
      "include_colab_link": true
    },
    "kernelspec": {
      "name": "python3",
      "display_name": "Python 3"
    },
    "language_info": {
      "name": "python"
    }
  },
  "cells": [
    {
      "cell_type": "markdown",
      "metadata": {
        "id": "view-in-github",
        "colab_type": "text"
      },
      "source": [
        "<a href=\"https://colab.research.google.com/github/hellen44/estudos-programaco/blob/main/27.ipynb\" target=\"_parent\"><img src=\"https://colab.research.google.com/assets/colab-badge.svg\" alt=\"Open In Colab\"/></a>"
      ]
    },
    {
      "cell_type": "code",
      "execution_count": 7,
      "metadata": {
        "colab": {
          "base_uri": "https://localhost:8080/"
        },
        "id": "n95GiMgg_aKx",
        "outputId": "c9b676a4-6e72-4dd9-f13a-0c641df6a2b9"
      },
      "outputs": [
        {
          "output_type": "stream",
          "name": "stdout",
          "text": [
            "('abacaxi', 'uva', 'cajá')\n"
          ]
        }
      ],
      "source": [
        "fruta = \"abacaxi\", \"uva\", \"cajá\"\n",
        "print(fruta)"
      ]
    },
    {
      "cell_type": "code",
      "source": [
        "#criando uma lista\n",
        "produtos = ['nutella, miojo de queijo, sopão, ruffles, empada, pizza']"
      ],
      "metadata": {
        "id": "ZUhhjGMIEO86"
      },
      "execution_count": 13,
      "outputs": []
    },
    {
      "cell_type": "code",
      "source": [
        "for i in produtos:\n",
        "   print(i)"
      ],
      "metadata": {
        "colab": {
          "base_uri": "https://localhost:8080/"
        },
        "id": "oCcGYszSEyo1",
        "outputId": "7878a834-3c98-40e9-c426-9496cf8750ff"
      },
      "execution_count": 14,
      "outputs": [
        {
          "output_type": "stream",
          "name": "stdout",
          "text": [
            "nutella, miojo de queijo, sopão, ruffles, empada, pizza\n"
          ]
        }
      ]
    },
    {
      "cell_type": "code",
      "source": [
        "for i in produtos:\n",
        "  if(i =='ruffles'):\n",
        "    print(i)"
      ],
      "metadata": {
        "id": "Jt6LrqyGHCO0"
      },
      "execution_count": 15,
      "outputs": []
    },
    {
      "cell_type": "code",
      "source": [
        "produto = input('insira um produto')\n",
        "#inserir valores em listas...\n",
        "produtos.append(produto)\n",
        "produtos"
      ],
      "metadata": {
        "colab": {
          "base_uri": "https://localhost:8080/"
        },
        "id": "O0IN0L5tHb87",
        "outputId": "da734b95-3019-4627-9008-efe5575f20d2"
      },
      "execution_count": 17,
      "outputs": [
        {
          "name": "stdout",
          "output_type": "stream",
          "text": [
            "insira um produtoprodutos\n"
          ]
        },
        {
          "output_type": "execute_result",
          "data": {
            "text/plain": [
              "['nutella, miojo de queijo, sopão, ruffles, empada, pizza',\n",
              " 'ruffles',\n",
              " 'produtos']"
            ]
          },
          "metadata": {},
          "execution_count": 17
        }
      ]
    },
    {
      "cell_type": "code",
      "source": [
        "#\n",
        "notas = [14,24,34,44,45,46,47]"
      ],
      "metadata": {
        "id": "Z0u6VI5XIXFK"
      },
      "execution_count": 19,
      "outputs": []
    },
    {
      "cell_type": "code",
      "source": [
        "for nota in notas:\n",
        "  if(nota >=7):\n",
        "    print(nota)"
      ],
      "metadata": {
        "colab": {
          "base_uri": "https://localhost:8080/"
        },
        "id": "G-dFeT0jJBNW",
        "outputId": "bb57cc25-7207-4ae3-cc0e-0607df3be5ff"
      },
      "execution_count": 20,
      "outputs": [
        {
          "output_type": "stream",
          "name": "stdout",
          "text": [
            "14\n",
            "24\n",
            "34\n",
            "44\n",
            "45\n",
            "46\n",
            "47\n"
          ]
        }
      ]
    },
    {
      "cell_type": "code",
      "source": [
        "#exiba a quantidade de aprovados e reprovados \n"
      ],
      "metadata": {
        "id": "F1SqYV_nJxLt"
      },
      "execution_count": 21,
      "outputs": []
    },
    {
      "cell_type": "code",
      "source": [
        "for nota in notas:\n",
        "  if(nota>=7):\n",
        "    print(nota)\n",
        "    nome = 'parabens, aprovado!'\n",
        "    print(nome)"
      ],
      "metadata": {
        "colab": {
          "base_uri": "https://localhost:8080/"
        },
        "id": "Va-4aB3cKjSt",
        "outputId": "86713087-43bd-4b68-e4b0-cb0f81d5330a"
      },
      "execution_count": 22,
      "outputs": [
        {
          "output_type": "stream",
          "name": "stdout",
          "text": [
            "14\n",
            "parabens, aprovado!\n",
            "24\n",
            "parabens, aprovado!\n",
            "34\n",
            "parabens, aprovado!\n",
            "44\n",
            "parabens, aprovado!\n",
            "45\n",
            "parabens, aprovado!\n",
            "46\n",
            "parabens, aprovado!\n",
            "47\n",
            "parabens, aprovado!\n"
          ]
        }
      ]
    },
    {
      "cell_type": "code",
      "source": [
        "aprovados = 0\n",
        "reprovados = 0\n",
        "for nota in notas:\n",
        "  if(nota>7):\n",
        "    aprovados +=1\n",
        "  else:\n",
        "    reprovados +=1\n",
        "\n",
        "print('aprovados:', aprovados)  \n",
        "print('reprovados', reprovados)  \n"
      ],
      "metadata": {
        "colab": {
          "base_uri": "https://localhost:8080/"
        },
        "id": "XayZoUk6LfGN",
        "outputId": "d1ce0b1a-2c78-46b9-865b-97bfab4f8dd6"
      },
      "execution_count": 23,
      "outputs": [
        {
          "output_type": "stream",
          "name": "stdout",
          "text": [
            "aprovados: 7\n",
            "reprovados 0\n"
          ]
        }
      ]
    },
    {
      "cell_type": "code",
      "source": [
        "#criar um programa que lista os numeros de 1 a 14\n",
        "cont = 1\n",
        "numeros = []\n",
        "\n",
        "while (cont <= 14):\n",
        "  numeros.append(cont)\n",
        "  cont += 1\n",
        "\n",
        "numeros"
      ],
      "metadata": {
        "colab": {
          "base_uri": "https://localhost:8080/"
        },
        "id": "jSRiNaLCQkq0",
        "outputId": "6133f62e-77cb-4377-d649-be5ebf920bc7"
      },
      "execution_count": 28,
      "outputs": [
        {
          "output_type": "execute_result",
          "data": {
            "text/plain": [
              "[1, 2, 3, 4, 5, 6, 7, 8, 9, 10, 11, 12, 13, 14]"
            ]
          },
          "metadata": {},
          "execution_count": 28
        }
      ]
    },
    {
      "cell_type": "code",
      "source": [
        "cont = 1\n",
        "numeros = []\n",
        "tamanho = int(input('digite o tamanho da lista '))\n",
        "\n",
        "while (cont <= tamanho):\n",
        "  numeros.append(cont)\n",
        "  cont += 1\n",
        "\n",
        "numeros"
      ],
      "metadata": {
        "colab": {
          "base_uri": "https://localhost:8080/"
        },
        "id": "v9SEeQ8HSbUz",
        "outputId": "bf5c184e-b184-447b-ca28-2ecc4831cb79"
      },
      "execution_count": 34,
      "outputs": [
        {
          "name": "stdout",
          "output_type": "stream",
          "text": [
            "digite o tamanho da lista 4\n"
          ]
        },
        {
          "output_type": "execute_result",
          "data": {
            "text/plain": [
              "[1, 2, 3, 4]"
            ]
          },
          "metadata": {},
          "execution_count": 34
        }
      ]
    },
    {
      "cell_type": "code",
      "source": [
        "cidades = []\n",
        "city = input('Digitte uma cidade:')\n",
        "\n",
        "while(city != '0'):\n",
        "  cidades.append(city)\n",
        "  city = input('Digite uma cidade:')\n",
        "\n",
        "cidades"
      ],
      "metadata": {
        "colab": {
          "base_uri": "https://localhost:8080/"
        },
        "id": "eXIGC3cOU1vl",
        "outputId": "5aa415ed-8648-4aba-a540-2c101eebd7a8"
      },
      "execution_count": 35,
      "outputs": [
        {
          "name": "stdout",
          "output_type": "stream",
          "text": [
            "Digitte uma cidade:jp\n",
            "Digite uma cidade:eu\n",
            "Digite uma cidade:nos\n",
            "Digite uma cidade:0\n"
          ]
        },
        {
          "output_type": "execute_result",
          "data": {
            "text/plain": [
              "['jp', 'eu', 'nos']"
            ]
          },
          "metadata": {},
          "execution_count": 35
        }
      ]
    },
    {
      "cell_type": "code",
      "source": [
        "num = int(input('digite um numero'))\n",
        "\n",
        "if(num % 2 == 0):\n",
        "  print(\"é par\")\n",
        "  num = int(input('digite um numero '))\n",
        "\n",
        "else:\n",
        "  print(\"impar\")\n",
        "  num = int(input('digite um numero '))\n",
        "\n",
        "print('acaboouu! é pentaaaa')"
      ],
      "metadata": {
        "colab": {
          "base_uri": "https://localhost:8080/"
        },
        "id": "rcsIxXnHZofN",
        "outputId": "f668b982-a3da-43d8-a579-8d1e4a287066"
      },
      "execution_count": 38,
      "outputs": [
        {
          "output_type": "stream",
          "name": "stdout",
          "text": [
            "digite um numero4\n",
            "é par\n",
            "digite um numero -4\n",
            "acaboouu! é pentaaaa\n"
          ]
        }
      ]
    }
  ]
}